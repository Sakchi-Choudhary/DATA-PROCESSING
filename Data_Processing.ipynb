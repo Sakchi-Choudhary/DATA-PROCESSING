{
  "nbformat": 4,
  "nbformat_minor": 0,
  "metadata": {
    "colab": {
      "name": " Data Processing(08-09-2021).ipynb",
      "provenance": [],
      "collapsed_sections": []
    },
    "kernelspec": {
      "name": "python3",
      "display_name": "Python 3"
    },
    "language_info": {
      "name": "python"
    }
  },
  "cells": [
    {
      "cell_type": "code",
      "metadata": {
        "id": "gOpDzOTPd-6h"
      },
      "source": [
        "import numpy as np\n",
        "import pandas as pd\n"
      ],
      "execution_count": null,
      "outputs": []
    },
    {
      "cell_type": "code",
      "metadata": {
        "colab": {
          "base_uri": "https://localhost:8080/"
        },
        "id": "-Owocnh4eLOM",
        "outputId": "498ee45c-fffc-44bd-baa5-36e8dffed28d"
      },
      "source": [
        "data=pd.read_csv('/content/sample.csv.csv')\n",
        "print (data)\n",
        " \n",
        "\n"
      ],
      "execution_count": null,
      "outputs": [
        {
          "output_type": "stream",
          "name": "stdout",
          "text": [
            "   Country   Age   Salary Purchased\n",
            "0   France  44.0  72000.0        No\n",
            "1    Spain  27.0  48000.0       Yes\n",
            "2  Germany  30.0  54000.0        No\n",
            "3    Spain  38.0  61000.0        No\n",
            "4  Germany  40.0      NaN       Yes\n",
            "5   France  35.0  58000.0       Yes\n",
            "6    Spain   NaN  52000.0        No\n",
            "7   France  48.0  79000.0       Yes\n",
            "8  Germany  50.0  83000.0        No\n",
            "9   France  37.0  67000.0       Yes\n"
          ]
        }
      ]
    },
    {
      "cell_type": "code",
      "metadata": {
        "colab": {
          "base_uri": "https://localhost:8080/"
        },
        "id": "ZXnJeC0xr7jp",
        "outputId": "02ea0535-d587-4578-b45f-98665956419e"
      },
      "source": [
        "data.isnull().sum()"
      ],
      "execution_count": null,
      "outputs": [
        {
          "output_type": "execute_result",
          "data": {
            "text/plain": [
              "Country      0\n",
              "Age          1\n",
              "Salary       1\n",
              "Purchased    0\n",
              "dtype: int64"
            ]
          },
          "metadata": {},
          "execution_count": 127
        }
      ]
    },
    {
      "cell_type": "code",
      "metadata": {
        "id": "s4NibkizsUNi"
      },
      "source": [
        "x=data.iloc[:,:-1].values\n",
        "y=data.iloc[:,3].values"
      ],
      "execution_count": null,
      "outputs": []
    },
    {
      "cell_type": "code",
      "metadata": {
        "colab": {
          "base_uri": "https://localhost:8080/"
        },
        "id": "5ryt3e6CuyIJ",
        "outputId": "b8501db7-3e56-4644-9e44-c3a8269c6b28"
      },
      "source": [
        "x"
      ],
      "execution_count": null,
      "outputs": [
        {
          "output_type": "execute_result",
          "data": {
            "text/plain": [
              "array([['France', 44.0, 72000.0],\n",
              "       ['Spain', 27.0, 48000.0],\n",
              "       ['Germany', 30.0, 54000.0],\n",
              "       ['Spain', 38.0, 61000.0],\n",
              "       ['Germany', 40.0, nan],\n",
              "       ['France', 35.0, 58000.0],\n",
              "       ['Spain', nan, 52000.0],\n",
              "       ['France', 48.0, 79000.0],\n",
              "       ['Germany', 50.0, 83000.0],\n",
              "       ['France', 37.0, 67000.0]], dtype=object)"
            ]
          },
          "metadata": {},
          "execution_count": 102
        }
      ]
    },
    {
      "cell_type": "code",
      "metadata": {
        "colab": {
          "base_uri": "https://localhost:8080/"
        },
        "id": "OjcuqxUBu2q5",
        "outputId": "ed61613a-7f7f-4ba4-c084-1be0d40f35b3"
      },
      "source": [
        "y"
      ],
      "execution_count": null,
      "outputs": [
        {
          "output_type": "execute_result",
          "data": {
            "text/plain": [
              "array(['No', 'Yes', 'No', 'No', 'Yes', 'Yes', 'No', 'Yes', 'No', 'Yes'],\n",
              "      dtype=object)"
            ]
          },
          "metadata": {},
          "execution_count": 103
        }
      ]
    },
    {
      "cell_type": "code",
      "metadata": {
        "id": "nj3a11Vhu5Ri"
      },
      "source": [
        "from sklearn.preprocessing import LabelEncoder  \n",
        "\n",
        "label_encoder_x= LabelEncoder()  \n",
        "\n",
        "x[:, 0]= label_encoder_x.fit_transform(x[:, 0])"
      ],
      "execution_count": null,
      "outputs": []
    },
    {
      "cell_type": "code",
      "metadata": {
        "colab": {
          "base_uri": "https://localhost:8080/"
        },
        "id": "WOxUkXhHwnrB",
        "outputId": "94874471-5a4f-440f-e46e-59b057760abf"
      },
      "source": [
        "x"
      ],
      "execution_count": null,
      "outputs": [
        {
          "output_type": "execute_result",
          "data": {
            "text/plain": [
              "array([[0, 44.0, 72000.0],\n",
              "       [2, 27.0, 48000.0],\n",
              "       [1, 30.0, 54000.0],\n",
              "       [2, 38.0, 61000.0],\n",
              "       [1, 40.0, nan],\n",
              "       [0, 35.0, 58000.0],\n",
              "       [2, nan, 52000.0],\n",
              "       [0, 48.0, 79000.0],\n",
              "       [1, 50.0, 83000.0],\n",
              "       [0, 37.0, 67000.0]], dtype=object)"
            ]
          },
          "metadata": {},
          "execution_count": 105
        }
      ]
    },
    {
      "cell_type": "code",
      "metadata": {
        "id": "FJSebwezvNQi"
      },
      "source": [
        "from sklearn.preprocessing import LabelEncoder, OneHotEncoder  \n",
        "\n",
        "label_encoder_x= LabelEncoder()  \n",
        "\n",
        "x[:, 2]= label_encoder_x.fit_transform(x[:, 0]) "
      ],
      "execution_count": null,
      "outputs": []
    },
    {
      "cell_type": "code",
      "metadata": {
        "colab": {
          "base_uri": "https://localhost:8080/"
        },
        "id": "tbV0E4SAxUTS",
        "outputId": "a57c3d5f-991f-4866-a183-d427b72f8c65"
      },
      "source": [
        "x"
      ],
      "execution_count": null,
      "outputs": [
        {
          "output_type": "execute_result",
          "data": {
            "text/plain": [
              "array([[0, 44.0, 0],\n",
              "       [2, 27.0, 2],\n",
              "       [1, 30.0, 1],\n",
              "       [2, 38.0, 2],\n",
              "       [1, 40.0, 1],\n",
              "       [0, 35.0, 0],\n",
              "       [2, nan, 2],\n",
              "       [0, 48.0, 0],\n",
              "       [1, 50.0, 1],\n",
              "       [0, 37.0, 0]], dtype=object)"
            ]
          },
          "metadata": {},
          "execution_count": 107
        }
      ]
    },
    {
      "cell_type": "code",
      "metadata": {
        "id": "zh3l57pBxuOC"
      },
      "source": [
        "labelencoder_y= LabelEncoder()  \n",
        "\n",
        "y= labelencoder_y.fit_transform(y) "
      ],
      "execution_count": null,
      "outputs": []
    },
    {
      "cell_type": "code",
      "metadata": {
        "colab": {
          "base_uri": "https://localhost:8080/"
        },
        "id": "so2MLsGYxv4R",
        "outputId": "119e5c73-b272-4b00-8eac-dc8d60d4f803"
      },
      "source": [
        "y"
      ],
      "execution_count": null,
      "outputs": [
        {
          "output_type": "execute_result",
          "data": {
            "text/plain": [
              "array(['No', 'Yes', 'No', 'No', 'Yes', 'Yes', 'No', 'Yes', 'No', 'Yes'],\n",
              "      dtype=object)"
            ]
          },
          "metadata": {},
          "execution_count": 108
        }
      ]
    },
    {
      "cell_type": "code",
      "metadata": {
        "id": "Mt7sQ22py56c"
      },
      "source": [
        "from sklearn.impute import SimpleImputer\n",
        "imp=SimpleImputer(missing_values=np.nan,strategy='mean')\n",
        "x[:,1:3]=imp.fit_transform(x[:,1:3])"
      ],
      "execution_count": null,
      "outputs": []
    },
    {
      "cell_type": "code",
      "metadata": {
        "colab": {
          "base_uri": "https://localhost:8080/"
        },
        "id": "kZQDlaCZYEaa",
        "outputId": "aa7e08b4-2f7f-4372-b53e-0c86efe9cc4a"
      },
      "source": [
        "x"
      ],
      "execution_count": null,
      "outputs": [
        {
          "output_type": "execute_result",
          "data": {
            "text/plain": [
              "array([[0, 44.0, 0.0],\n",
              "       [2, 27.0, 2.0],\n",
              "       [1, 30.0, 1.0],\n",
              "       [2, 38.0, 2.0],\n",
              "       [1, 40.0, 1.0],\n",
              "       [0, 35.0, 0.0],\n",
              "       [2, 38.77777777777778, 2.0],\n",
              "       [0, 48.0, 0.0],\n",
              "       [1, 50.0, 1.0],\n",
              "       [0, 37.0, 0.0]], dtype=object)"
            ]
          },
          "metadata": {},
          "execution_count": 111
        }
      ]
    },
    {
      "cell_type": "code",
      "metadata": {
        "id": "c9-Cr1TvYpGC"
      },
      "source": [
        "from sklearn.preprocessing import LabelEncoder\n",
        "LE= LabelEncoder()\n",
        "x[:,0]=LE.fit_transform(x[:,0])"
      ],
      "execution_count": null,
      "outputs": []
    },
    {
      "cell_type": "code",
      "metadata": {
        "id": "YD0A-GtCYsNI"
      },
      "source": [
        "y= LE.fit_transform(y)"
      ],
      "execution_count": null,
      "outputs": []
    },
    {
      "cell_type": "code",
      "metadata": {
        "colab": {
          "base_uri": "https://localhost:8080/"
        },
        "id": "ORYg6SqXY1PR",
        "outputId": "5b39d4b6-81ea-4da0-d827-a17f8ea99ebf"
      },
      "source": [
        "x"
      ],
      "execution_count": null,
      "outputs": [
        {
          "output_type": "execute_result",
          "data": {
            "text/plain": [
              "array([[0, 44.0, 0.0],\n",
              "       [2, 27.0, 2.0],\n",
              "       [1, 30.0, 1.0],\n",
              "       [2, 38.0, 2.0],\n",
              "       [1, 40.0, 1.0],\n",
              "       [0, 35.0, 0.0],\n",
              "       [2, 38.77777777777778, 2.0],\n",
              "       [0, 48.0, 0.0],\n",
              "       [1, 50.0, 1.0],\n",
              "       [0, 37.0, 0.0]], dtype=object)"
            ]
          },
          "metadata": {},
          "execution_count": 114
        }
      ]
    },
    {
      "cell_type": "code",
      "metadata": {
        "colab": {
          "base_uri": "https://localhost:8080/"
        },
        "id": "MlH2MX-EY4wg",
        "outputId": "032a4222-8c96-40f7-e08a-0b723130ea02"
      },
      "source": [
        "y"
      ],
      "execution_count": null,
      "outputs": [
        {
          "output_type": "execute_result",
          "data": {
            "text/plain": [
              "array([0, 1, 0, 0, 1, 1, 0, 1, 0, 1])"
            ]
          },
          "metadata": {},
          "execution_count": 115
        }
      ]
    },
    {
      "cell_type": "code",
      "metadata": {
        "id": "MG-eOWEzY-YC"
      },
      "source": [
        "from sklearn.preprocessing import OneHotEncoder  \n",
        "from sklearn.compose import ColumnTransformer\n",
        "transform=ColumnTransformer([(\"norm1\",OneHotEncoder(),[0])],remainder='passthrough')\n",
        "x=transform.fit_transform(x)"
      ],
      "execution_count": null,
      "outputs": []
    },
    {
      "cell_type": "code",
      "metadata": {
        "colab": {
          "base_uri": "https://localhost:8080/"
        },
        "id": "cj9ZBrAzZBlI",
        "outputId": "e68b164c-d0a9-43bf-80ba-8b2cc452e24a"
      },
      "source": [
        "x"
      ],
      "execution_count": null,
      "outputs": [
        {
          "output_type": "execute_result",
          "data": {
            "text/plain": [
              "array([[1.0, 0.0, 0.0, 44.0, 0.0],\n",
              "       [0.0, 0.0, 1.0, 27.0, 2.0],\n",
              "       [0.0, 1.0, 0.0, 30.0, 1.0],\n",
              "       [0.0, 0.0, 1.0, 38.0, 2.0],\n",
              "       [0.0, 1.0, 0.0, 40.0, 1.0],\n",
              "       [1.0, 0.0, 0.0, 35.0, 0.0],\n",
              "       [0.0, 0.0, 1.0, 38.77777777777778, 2.0],\n",
              "       [1.0, 0.0, 0.0, 48.0, 0.0],\n",
              "       [0.0, 1.0, 0.0, 50.0, 1.0],\n",
              "       [1.0, 0.0, 0.0, 37.0, 0.0]], dtype=object)"
            ]
          },
          "metadata": {},
          "execution_count": 117
        }
      ]
    },
    {
      "cell_type": "code",
      "metadata": {
        "colab": {
          "base_uri": "https://localhost:8080/"
        },
        "id": "_z2XdbuaZmeC",
        "outputId": "9693b88b-9772-4197-967c-c98b19a8e45e"
      },
      "source": [
        "y"
      ],
      "execution_count": null,
      "outputs": [
        {
          "output_type": "execute_result",
          "data": {
            "text/plain": [
              "array([0, 1, 0, 0, 1, 1, 0, 1, 0, 1])"
            ]
          },
          "metadata": {},
          "execution_count": 118
        }
      ]
    },
    {
      "cell_type": "code",
      "metadata": {
        "id": "EjKLKUIgb11r"
      },
      "source": [
        "from sklearn.model_selection import train_test_split\n",
        "x_train,x_test,y_train,y_test=train_test_split(x,y,test_size=0.2,random_state=0)"
      ],
      "execution_count": null,
      "outputs": []
    },
    {
      "cell_type": "code",
      "metadata": {
        "colab": {
          "base_uri": "https://localhost:8080/"
        },
        "id": "FDCue4BCb38S",
        "outputId": "0579ddb5-a45c-4c9f-a3ad-91f7982914fe"
      },
      "source": [
        "x_train"
      ],
      "execution_count": null,
      "outputs": [
        {
          "output_type": "execute_result",
          "data": {
            "text/plain": [
              "array([[0.0, 1.0, 0.0, 40.0, 1.0],\n",
              "       [1.0, 0.0, 0.0, 37.0, 0.0],\n",
              "       [0.0, 0.0, 1.0, 27.0, 2.0],\n",
              "       [0.0, 0.0, 1.0, 38.77777777777778, 2.0],\n",
              "       [1.0, 0.0, 0.0, 48.0, 0.0],\n",
              "       [0.0, 0.0, 1.0, 38.0, 2.0],\n",
              "       [1.0, 0.0, 0.0, 44.0, 0.0],\n",
              "       [1.0, 0.0, 0.0, 35.0, 0.0]], dtype=object)"
            ]
          },
          "metadata": {},
          "execution_count": 120
        }
      ]
    },
    {
      "cell_type": "code",
      "metadata": {
        "colab": {
          "base_uri": "https://localhost:8080/"
        },
        "id": "xlC_F_eqcHk8",
        "outputId": "b35d5d0d-c2d2-4d49-d5c7-95708b12e089"
      },
      "source": [
        "y_train"
      ],
      "execution_count": null,
      "outputs": [
        {
          "output_type": "execute_result",
          "data": {
            "text/plain": [
              "array([1, 1, 1, 0, 1, 0, 0, 1])"
            ]
          },
          "metadata": {},
          "execution_count": 121
        }
      ]
    },
    {
      "cell_type": "code",
      "metadata": {
        "id": "swV_OW4Ta-LI"
      },
      "source": [
        "from sklearn.preprocessing import StandardScaler\n",
        "SC=StandardScaler()\n",
        "x_train[:,3:5]=SC.fit_transform(x_train[:,3:5])"
      ],
      "execution_count": null,
      "outputs": []
    },
    {
      "cell_type": "code",
      "metadata": {
        "colab": {
          "base_uri": "https://localhost:8080/"
        },
        "id": "Wr9lxJambcAJ",
        "outputId": "26795be9-f345-4e38-d063-4c47c4edd5e0"
      },
      "source": [
        "x_train"
      ],
      "execution_count": null,
      "outputs": [
        {
          "output_type": "execute_result",
          "data": {
            "text/plain": [
              "array([[0.0, 1.0, 0.0, 0.2630675731713538, 0.13483997249264842],\n",
              "       [1.0, 0.0, 0.0, -0.25350147960148617, -0.9438798074485389],\n",
              "       [0.0, 0.0, 1.0, -1.9753983221776195, 1.2135597524338357],\n",
              "       [0.0, 0.0, 1.0, 0.05261351463427101, 1.2135597524338357],\n",
              "       [1.0, 0.0, 0.0, 1.6405850472322605, -0.9438798074485389],\n",
              "       [0.0, 0.0, 1.0, -0.08131179534387283, 1.2135597524338357],\n",
              "       [1.0, 0.0, 0.0, 0.9518263102018072, -0.9438798074485389],\n",
              "       [1.0, 0.0, 0.0, -0.5978808481167128, -0.9438798074485389]],\n",
              "      dtype=object)"
            ]
          },
          "metadata": {},
          "execution_count": 123
        }
      ]
    },
    {
      "cell_type": "code",
      "metadata": {
        "colab": {
          "base_uri": "https://localhost:8080/"
        },
        "id": "RYINTREdbP6Z",
        "outputId": "41804af7-0741-4622-fe56-6da678ed94e5"
      },
      "source": [
        "y_train"
      ],
      "execution_count": null,
      "outputs": [
        {
          "output_type": "execute_result",
          "data": {
            "text/plain": [
              "array([1, 1, 1, 0, 1, 0, 0, 1])"
            ]
          },
          "metadata": {},
          "execution_count": 124
        }
      ]
    }
  ]
}